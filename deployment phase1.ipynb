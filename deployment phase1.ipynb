{
 "cells": [
  {
   "cell_type": "code",
   "execution_count": 1,
   "id": "28797555-c4ee-4ca8-bb78-6036e41c8238",
   "metadata": {},
   "outputs": [],
   "source": [
    "#save the model\n",
    "import pickle"
   ]
  },
  {
   "cell_type": "code",
   "execution_count": 11,
   "id": "d388406c-e334-418a-915b-2ad6acf35366",
   "metadata": {},
   "outputs": [],
   "source": [
    "#to load the model and checking\n",
    "loaded_model=pickle.load(open(\"finalized_model_linear,sav\",\"rb\"))"
   ]
  },
  {
   "cell_type": "code",
   "execution_count": 13,
   "id": "844d9e86-8155-4021-b1ce-bc8480b3875f",
   "metadata": {},
   "outputs": [
    {
     "name": "stderr",
     "output_type": "stream",
     "text": [
      "C:\\Anaconda\\Lib\\site-packages\\sklearn\\base.py:493: UserWarning: X does not have valid feature names, but LinearRegression was fitted with feature names\n",
      "  warnings.warn(\n"
     ]
    }
   ],
   "source": [
    "#to check predict value\n",
    "result=loaded_model.predict([[7]])"
   ]
  },
  {
   "cell_type": "code",
   "execution_count": 15,
   "id": "302844a3-5b8f-4567-896f-5e011be74a90",
   "metadata": {},
   "outputs": [
    {
     "data": {
      "text/plain": [
       "array([[92299.22034455]])"
      ]
     },
     "execution_count": 15,
     "metadata": {},
     "output_type": "execute_result"
    }
   ],
   "source": [
    "#to see the pedict value\n",
    "result"
   ]
  },
  {
   "cell_type": "code",
   "execution_count": null,
   "id": "35848333-7535-4953-a17d-414bb10ffa0b",
   "metadata": {},
   "outputs": [],
   "source": []
  }
 ],
 "metadata": {
  "kernelspec": {
   "display_name": "Python 3 (ipykernel)",
   "language": "python",
   "name": "python3"
  },
  "language_info": {
   "codemirror_mode": {
    "name": "ipython",
    "version": 3
   },
   "file_extension": ".py",
   "mimetype": "text/x-python",
   "name": "python",
   "nbconvert_exporter": "python",
   "pygments_lexer": "ipython3",
   "version": "3.12.7"
  }
 },
 "nbformat": 4,
 "nbformat_minor": 5
}
