{
 "cells": [
  {
   "cell_type": "code",
   "execution_count": 1,
   "id": "e89f7c92-73d5-414e-ad10-3088ad9d81e5",
   "metadata": {},
   "outputs": [],
   "source": [
    "import pickle"
   ]
  },
  {
   "cell_type": "code",
   "execution_count": 3,
   "id": "8cc4d0d3-6bdc-4541-af65-039b8bdc6a27",
   "metadata": {},
   "outputs": [
    {
     "name": "stderr",
     "output_type": "stream",
     "text": [
      "C:\\Anaconda\\Lib\\site-packages\\sklearn\\base.py:493: UserWarning: X does not have valid feature names, but DecisionTreeRegressor was fitted with feature names\n",
      "  warnings.warn(\n"
     ]
    }
   ],
   "source": [
    "loaded_model=pickle.load(open(\"finalized_model_decisiontree,sav\",\"rb\"))\n",
    "result=loaded_model.predict([[12,23,34,54,1]])"
   ]
  },
  {
   "cell_type": "code",
   "execution_count": 5,
   "id": "9fff7340-d599-4305-af02-95f0e5b0a49f",
   "metadata": {},
   "outputs": [
    {
     "data": {
      "text/plain": [
       "array([35673.])"
      ]
     },
     "execution_count": 5,
     "metadata": {},
     "output_type": "execute_result"
    }
   ],
   "source": [
    "result"
   ]
  },
  {
   "cell_type": "code",
   "execution_count": null,
   "id": "79ac0e1b-88f6-48a7-a07b-900679a0af16",
   "metadata": {},
   "outputs": [],
   "source": []
  }
 ],
 "metadata": {
  "kernelspec": {
   "display_name": "Python 3 (ipykernel)",
   "language": "python",
   "name": "python3"
  },
  "language_info": {
   "codemirror_mode": {
    "name": "ipython",
    "version": 3
   },
   "file_extension": ".py",
   "mimetype": "text/x-python",
   "name": "python",
   "nbconvert_exporter": "python",
   "pygments_lexer": "ipython3",
   "version": "3.12.7"
  }
 },
 "nbformat": 4,
 "nbformat_minor": 5
}
